{
 "cells": [
  {
   "cell_type": "markdown",
   "metadata": {},
   "source": [
    "# Desafio técnico - Cientista de Dados Jr\n",
    "## Ermeson Freitas"
   ]
  },
  {
   "cell_type": "code",
   "execution_count": 22,
   "metadata": {},
   "outputs": [],
   "source": [
    "# Importanto bibliotecas\n",
    "import pandas as pd\n",
    "import basedosdados as bd"
   ]
  },
  {
   "cell_type": "code",
   "execution_count": 23,
   "metadata": {},
   "outputs": [
    {
     "name": "stderr",
     "output_type": "stream",
     "text": [
      "Downloading: 100%|██████████| 73/73 [00:00<00:00, 185.06rows/s]\n"
     ]
    },
    {
     "data": {
      "text/html": [
       "<div>\n",
       "<style scoped>\n",
       "    .dataframe tbody tr th:only-of-type {\n",
       "        vertical-align: middle;\n",
       "    }\n",
       "\n",
       "    .dataframe tbody tr th {\n",
       "        vertical-align: top;\n",
       "    }\n",
       "\n",
       "    .dataframe thead th {\n",
       "        text-align: right;\n",
       "    }\n",
       "</style>\n",
       "<table border=\"1\" class=\"dataframe\">\n",
       "  <thead>\n",
       "    <tr style=\"text-align: right;\">\n",
       "      <th></th>\n",
       "      <th>id_chamado</th>\n",
       "      <th>data_inicio</th>\n",
       "      <th>data_fim</th>\n",
       "      <th>id_bairro</th>\n",
       "      <th>id_territorialidade</th>\n",
       "      <th>id_logradouro</th>\n",
       "      <th>numero_logradouro</th>\n",
       "      <th>id_unidade_organizacional</th>\n",
       "      <th>nome_unidade_organizacional</th>\n",
       "      <th>id_unidade_organizacional_mae</th>\n",
       "      <th>...</th>\n",
       "      <th>tempo_prazo</th>\n",
       "      <th>prazo_unidade</th>\n",
       "      <th>prazo_tipo</th>\n",
       "      <th>dentro_prazo</th>\n",
       "      <th>situacao</th>\n",
       "      <th>tipo_situacao</th>\n",
       "      <th>justificativa_status</th>\n",
       "      <th>reclamacoes</th>\n",
       "      <th>data_particao</th>\n",
       "      <th>geometry</th>\n",
       "    </tr>\n",
       "  </thead>\n",
       "  <tbody>\n",
       "    <tr>\n",
       "      <th>0</th>\n",
       "      <td>18516246</td>\n",
       "      <td>2023-04-01 00:55:38</td>\n",
       "      <td>2023-04-01 00:55:38</td>\n",
       "      <td>None</td>\n",
       "      <td>None</td>\n",
       "      <td>None</td>\n",
       "      <td>NaN</td>\n",
       "      <td>1706</td>\n",
       "      <td>TR/SUBOP/CFT - Coordenadoria de Fiscalização e...</td>\n",
       "      <td>SMTR - Secretaria Municipal de Transportes</td>\n",
       "      <td>...</td>\n",
       "      <td>None</td>\n",
       "      <td>D</td>\n",
       "      <td>F</td>\n",
       "      <td>No prazo</td>\n",
       "      <td>Encerrado</td>\n",
       "      <td>Atendido parcialmente</td>\n",
       "      <td>None</td>\n",
       "      <td>0</td>\n",
       "      <td>2023-04-01</td>\n",
       "      <td>None</td>\n",
       "    </tr>\n",
       "    <tr>\n",
       "      <th>1</th>\n",
       "      <td>18516254</td>\n",
       "      <td>2023-04-01 01:08:04</td>\n",
       "      <td>2023-04-01 01:43:38</td>\n",
       "      <td>1</td>\n",
       "      <td>1</td>\n",
       "      <td>62364</td>\n",
       "      <td>60.0</td>\n",
       "      <td>70</td>\n",
       "      <td>GM-RIO - Guarda Municipal do Rio de Janeiro</td>\n",
       "      <td>GM-RIO - Guarda Municipal do Rio de Janeiro</td>\n",
       "      <td>...</td>\n",
       "      <td>None</td>\n",
       "      <td>H</td>\n",
       "      <td>F</td>\n",
       "      <td>No prazo</td>\n",
       "      <td>Encerrado</td>\n",
       "      <td>Não constatado</td>\n",
       "      <td>None</td>\n",
       "      <td>0</td>\n",
       "      <td>2023-04-01</td>\n",
       "      <td>None</td>\n",
       "    </tr>\n",
       "    <tr>\n",
       "      <th>2</th>\n",
       "      <td>18516194</td>\n",
       "      <td>2023-04-01 00:04:59</td>\n",
       "      <td>NaT</td>\n",
       "      <td>14</td>\n",
       "      <td>1</td>\n",
       "      <td>76992</td>\n",
       "      <td>120.0</td>\n",
       "      <td>1240</td>\n",
       "      <td>CCU - 1º Serviço de Fiscalização</td>\n",
       "      <td>CCU - Coordenadoria de Controle Urbano</td>\n",
       "      <td>...</td>\n",
       "      <td>None</td>\n",
       "      <td>D</td>\n",
       "      <td>F</td>\n",
       "      <td>Fora do prazo</td>\n",
       "      <td>Não Encerrado</td>\n",
       "      <td>Andamento</td>\n",
       "      <td>None</td>\n",
       "      <td>0</td>\n",
       "      <td>2023-04-01</td>\n",
       "      <td>POINT(-43.186679 -22.921335)</td>\n",
       "    </tr>\n",
       "    <tr>\n",
       "      <th>3</th>\n",
       "      <td>18516238</td>\n",
       "      <td>2023-04-01 00:38:22</td>\n",
       "      <td>NaT</td>\n",
       "      <td>5</td>\n",
       "      <td>1</td>\n",
       "      <td>60483</td>\n",
       "      <td>319.0</td>\n",
       "      <td>1258</td>\n",
       "      <td>CFE - Coordenação de Feiras</td>\n",
       "      <td>SEOP - Secretaria Municipal de Ordem Pública</td>\n",
       "      <td>...</td>\n",
       "      <td>None</td>\n",
       "      <td>D</td>\n",
       "      <td>F</td>\n",
       "      <td>Fora do prazo</td>\n",
       "      <td>Não Encerrado</td>\n",
       "      <td>Andamento</td>\n",
       "      <td>None</td>\n",
       "      <td>0</td>\n",
       "      <td>2023-04-01</td>\n",
       "      <td>POINT(-43.1882526 -22.9122295)</td>\n",
       "    </tr>\n",
       "    <tr>\n",
       "      <th>4</th>\n",
       "      <td>18516208</td>\n",
       "      <td>2023-04-01 00:14:00</td>\n",
       "      <td>NaT</td>\n",
       "      <td>14</td>\n",
       "      <td>1</td>\n",
       "      <td>76992</td>\n",
       "      <td>90.0</td>\n",
       "      <td>82</td>\n",
       "      <td>CLF - Coordenadoria de Licenciamento e Fiscali...</td>\n",
       "      <td>CLF - Coordenadoria de Licenciamento e Fiscali...</td>\n",
       "      <td>...</td>\n",
       "      <td>None</td>\n",
       "      <td>D</td>\n",
       "      <td>F</td>\n",
       "      <td>Fora do prazo</td>\n",
       "      <td>Não Encerrado</td>\n",
       "      <td>Andamento</td>\n",
       "      <td>None</td>\n",
       "      <td>0</td>\n",
       "      <td>2023-04-01</td>\n",
       "      <td>POINT(-43.1872883 -22.9211226)</td>\n",
       "    </tr>\n",
       "  </tbody>\n",
       "</table>\n",
       "<p>5 rows × 32 columns</p>\n",
       "</div>"
      ],
      "text/plain": [
       "  id_chamado         data_inicio            data_fim id_bairro  \\\n",
       "0   18516246 2023-04-01 00:55:38 2023-04-01 00:55:38      None   \n",
       "1   18516254 2023-04-01 01:08:04 2023-04-01 01:43:38         1   \n",
       "2   18516194 2023-04-01 00:04:59                 NaT        14   \n",
       "3   18516238 2023-04-01 00:38:22                 NaT         5   \n",
       "4   18516208 2023-04-01 00:14:00                 NaT        14   \n",
       "\n",
       "  id_territorialidade id_logradouro  numero_logradouro  \\\n",
       "0                None          None                NaN   \n",
       "1                   1         62364               60.0   \n",
       "2                   1         76992              120.0   \n",
       "3                   1         60483              319.0   \n",
       "4                   1         76992               90.0   \n",
       "\n",
       "  id_unidade_organizacional  \\\n",
       "0                      1706   \n",
       "1                        70   \n",
       "2                      1240   \n",
       "3                      1258   \n",
       "4                        82   \n",
       "\n",
       "                         nome_unidade_organizacional  \\\n",
       "0  TR/SUBOP/CFT - Coordenadoria de Fiscalização e...   \n",
       "1        GM-RIO - Guarda Municipal do Rio de Janeiro   \n",
       "2                   CCU - 1º Serviço de Fiscalização   \n",
       "3                        CFE - Coordenação de Feiras   \n",
       "4  CLF - Coordenadoria de Licenciamento e Fiscali...   \n",
       "\n",
       "                       id_unidade_organizacional_mae  ... tempo_prazo  \\\n",
       "0         SMTR - Secretaria Municipal de Transportes  ...        None   \n",
       "1        GM-RIO - Guarda Municipal do Rio de Janeiro  ...        None   \n",
       "2             CCU - Coordenadoria de Controle Urbano  ...        None   \n",
       "3       SEOP - Secretaria Municipal de Ordem Pública  ...        None   \n",
       "4  CLF - Coordenadoria de Licenciamento e Fiscali...  ...        None   \n",
       "\n",
       "  prazo_unidade prazo_tipo   dentro_prazo       situacao  \\\n",
       "0             D          F       No prazo      Encerrado   \n",
       "1             H          F       No prazo      Encerrado   \n",
       "2             D          F  Fora do prazo  Não Encerrado   \n",
       "3             D          F  Fora do prazo  Não Encerrado   \n",
       "4             D          F  Fora do prazo  Não Encerrado   \n",
       "\n",
       "           tipo_situacao justificativa_status  reclamacoes  data_particao  \\\n",
       "0  Atendido parcialmente                 None            0     2023-04-01   \n",
       "1         Não constatado                 None            0     2023-04-01   \n",
       "2              Andamento                 None            0     2023-04-01   \n",
       "3              Andamento                 None            0     2023-04-01   \n",
       "4              Andamento                 None            0     2023-04-01   \n",
       "\n",
       "                         geometry  \n",
       "0                            None  \n",
       "1                            None  \n",
       "2    POINT(-43.186679 -22.921335)  \n",
       "3  POINT(-43.1882526 -22.9122295)  \n",
       "4  POINT(-43.1872883 -22.9211226)  \n",
       "\n",
       "[5 rows x 32 columns]"
      ]
     },
     "execution_count": 23,
     "metadata": {},
     "output_type": "execute_result"
    }
   ],
   "source": [
    "# Lendo tabela de chamados\n",
    "query = \"\"\"\n",
    "SELECT *\n",
    "FROM `datario.administracao_servicos_publicos.chamado_1746` \n",
    "WHERE data_particao = \"2023-04-01\" and\n",
    "DATE(data_inicio) = \"2023-04-01\";\n",
    "\"\"\"\n",
    "# Salvando consulta em um dataframe\n",
    "df_chamados = bd.read_sql(query, billing_project_id=\"desafio-emd-cdj\")\n",
    "\n",
    "# Visuliazando df\n",
    "df_chamados.head(5)"
   ]
  },
  {
   "cell_type": "markdown",
   "metadata": {},
   "source": [
    "### 1. Quantos chamados foram abertos no dia 01/04/2023?"
   ]
  },
  {
   "cell_type": "code",
   "execution_count": 24,
   "metadata": {},
   "outputs": [
    {
     "data": {
      "text/plain": [
       "73"
      ]
     },
     "execution_count": 24,
     "metadata": {},
     "output_type": "execute_result"
    }
   ],
   "source": [
    "# Realiazamos a contagem de registros no df_chamados que corresponde ao número total de chamados abertos\n",
    "# no dia 01/04/2023.\n",
    "len(df_chamados)"
   ]
  },
  {
   "cell_type": "markdown",
   "metadata": {},
   "source": [
    "### 2. Qual o tipo de chamado que teve mais reclamações no dia 01/04/2023?"
   ]
  },
  {
   "cell_type": "code",
   "execution_count": 25,
   "metadata": {},
   "outputs": [
    {
     "data": {
      "text/html": [
       "<div>\n",
       "<style scoped>\n",
       "    .dataframe tbody tr th:only-of-type {\n",
       "        vertical-align: middle;\n",
       "    }\n",
       "\n",
       "    .dataframe tbody tr th {\n",
       "        vertical-align: top;\n",
       "    }\n",
       "\n",
       "    .dataframe thead th {\n",
       "        text-align: right;\n",
       "    }\n",
       "</style>\n",
       "<table border=\"1\" class=\"dataframe\">\n",
       "  <thead>\n",
       "    <tr style=\"text-align: right;\">\n",
       "      <th></th>\n",
       "      <th>tipo</th>\n",
       "      <th>quantidade</th>\n",
       "    </tr>\n",
       "  </thead>\n",
       "  <tbody>\n",
       "    <tr>\n",
       "      <th>0</th>\n",
       "      <td>Poluição sonora</td>\n",
       "      <td>24</td>\n",
       "    </tr>\n",
       "  </tbody>\n",
       "</table>\n",
       "</div>"
      ],
      "text/plain": [
       "              tipo  quantidade\n",
       "0  Poluição sonora          24"
      ]
     },
     "execution_count": 25,
     "metadata": {},
     "output_type": "execute_result"
    }
   ],
   "source": [
    "df_chamados['tipo'].value_counts().rename_axis('tipo').reset_index(name='quantidade').head(1)\n",
    "# Portanto, Poluição sonora é o tipo de chamado com maior ocorrência no dia 01/04/2023.\n"
   ]
  },
  {
   "cell_type": "markdown",
   "metadata": {},
   "source": [
    "### 3. Quais os nomes dos 3 bairros que mais tiveram chamados abertos nesse dia?"
   ]
  },
  {
   "cell_type": "code",
   "execution_count": 26,
   "metadata": {},
   "outputs": [
    {
     "name": "stderr",
     "output_type": "stream",
     "text": [
      "Downloading: 100%|██████████| 164/164 [00:00<00:00, 251.06rows/s]\n"
     ]
    },
    {
     "data": {
      "text/html": [
       "<div>\n",
       "<style scoped>\n",
       "    .dataframe tbody tr th:only-of-type {\n",
       "        vertical-align: middle;\n",
       "    }\n",
       "\n",
       "    .dataframe tbody tr th {\n",
       "        vertical-align: top;\n",
       "    }\n",
       "\n",
       "    .dataframe thead th {\n",
       "        text-align: right;\n",
       "    }\n",
       "</style>\n",
       "<table border=\"1\" class=\"dataframe\">\n",
       "  <thead>\n",
       "    <tr style=\"text-align: right;\">\n",
       "      <th></th>\n",
       "      <th>id_bairro</th>\n",
       "      <th>nome</th>\n",
       "      <th>subprefeitura</th>\n",
       "    </tr>\n",
       "  </thead>\n",
       "  <tbody>\n",
       "    <tr>\n",
       "      <th>0</th>\n",
       "      <td>2</td>\n",
       "      <td>Gamboa</td>\n",
       "      <td>Centro</td>\n",
       "    </tr>\n",
       "    <tr>\n",
       "      <th>1</th>\n",
       "      <td>1</td>\n",
       "      <td>Saúde</td>\n",
       "      <td>Centro</td>\n",
       "    </tr>\n",
       "    <tr>\n",
       "      <th>2</th>\n",
       "      <td>4</td>\n",
       "      <td>Caju</td>\n",
       "      <td>Centro</td>\n",
       "    </tr>\n",
       "    <tr>\n",
       "      <th>3</th>\n",
       "      <td>3</td>\n",
       "      <td>Santo Cristo</td>\n",
       "      <td>Centro</td>\n",
       "    </tr>\n",
       "    <tr>\n",
       "      <th>4</th>\n",
       "      <td>161</td>\n",
       "      <td>Lapa</td>\n",
       "      <td>Centro</td>\n",
       "    </tr>\n",
       "  </tbody>\n",
       "</table>\n",
       "</div>"
      ],
      "text/plain": [
       "  id_bairro          nome subprefeitura\n",
       "0         2        Gamboa        Centro\n",
       "1         1         Saúde        Centro\n",
       "2         4          Caju        Centro\n",
       "3         3  Santo Cristo        Centro\n",
       "4       161          Lapa        Centro"
      ]
     },
     "execution_count": 26,
     "metadata": {},
     "output_type": "execute_result"
    }
   ],
   "source": [
    "# Lendo tabela de bairros\n",
    "query = \"\"\"\n",
    "SELECT id_bairro, nome, subprefeitura\n",
    "FROM `datario.dados_mestres.bairro`;\n",
    "\"\"\"\n",
    "# Salvando consulta em um dataframe\n",
    "df_bairros = bd.read_sql(query, billing_project_id=\"desafio-emd-cdj\")\n",
    "\n",
    "# Visuliazando df\n",
    "df_bairros.head(5)"
   ]
  },
  {
   "cell_type": "code",
   "execution_count": 27,
   "metadata": {},
   "outputs": [
    {
     "data": {
      "text/html": [
       "<div>\n",
       "<style scoped>\n",
       "    .dataframe tbody tr th:only-of-type {\n",
       "        vertical-align: middle;\n",
       "    }\n",
       "\n",
       "    .dataframe tbody tr th {\n",
       "        vertical-align: top;\n",
       "    }\n",
       "\n",
       "    .dataframe thead th {\n",
       "        text-align: right;\n",
       "    }\n",
       "</style>\n",
       "<table border=\"1\" class=\"dataframe\">\n",
       "  <thead>\n",
       "    <tr style=\"text-align: right;\">\n",
       "      <th></th>\n",
       "      <th>bairro</th>\n",
       "      <th>quantidade</th>\n",
       "    </tr>\n",
       "  </thead>\n",
       "  <tbody>\n",
       "    <tr>\n",
       "      <th>0</th>\n",
       "      <td>Engenho de Dentro</td>\n",
       "      <td>8</td>\n",
       "    </tr>\n",
       "    <tr>\n",
       "      <th>1</th>\n",
       "      <td>Leblon</td>\n",
       "      <td>6</td>\n",
       "    </tr>\n",
       "    <tr>\n",
       "      <th>2</th>\n",
       "      <td>Campo Grande</td>\n",
       "      <td>6</td>\n",
       "    </tr>\n",
       "  </tbody>\n",
       "</table>\n",
       "</div>"
      ],
      "text/plain": [
       "              bairro  quantidade\n",
       "0  Engenho de Dentro           8\n",
       "1             Leblon           6\n",
       "2       Campo Grande           6"
      ]
     },
     "execution_count": 27,
     "metadata": {},
     "output_type": "execute_result"
    }
   ],
   "source": [
    "# Juntando os DataFrames\n",
    "df = pd.merge(df_chamados, df_bairros, on='id_bairro', how='left')\n",
    "\n",
    "# Contando o número de chamados para cada bairro\n",
    "df['nome'].value_counts().rename_axis('bairro').reset_index(name='quantidade').head(3)"
   ]
  },
  {
   "cell_type": "markdown",
   "metadata": {},
   "source": [
    "RESPOSTA: Engenho de Dentro com 8 chamados, Campo Grande e Leblon com 6 chamados."
   ]
  },
  {
   "cell_type": "markdown",
   "metadata": {},
   "source": [
    "### 4. Qual o nome da subprefeitura com mais chamados abertos nesse dia?"
   ]
  },
  {
   "cell_type": "code",
   "execution_count": 28,
   "metadata": {},
   "outputs": [
    {
     "data": {
      "text/html": [
       "<div>\n",
       "<style scoped>\n",
       "    .dataframe tbody tr th:only-of-type {\n",
       "        vertical-align: middle;\n",
       "    }\n",
       "\n",
       "    .dataframe tbody tr th {\n",
       "        vertical-align: top;\n",
       "    }\n",
       "\n",
       "    .dataframe thead th {\n",
       "        text-align: right;\n",
       "    }\n",
       "</style>\n",
       "<table border=\"1\" class=\"dataframe\">\n",
       "  <thead>\n",
       "    <tr style=\"text-align: right;\">\n",
       "      <th></th>\n",
       "      <th>subprefeitura</th>\n",
       "      <th>quantidade</th>\n",
       "    </tr>\n",
       "  </thead>\n",
       "  <tbody>\n",
       "    <tr>\n",
       "      <th>0</th>\n",
       "      <td>Zona Norte</td>\n",
       "      <td>25</td>\n",
       "    </tr>\n",
       "  </tbody>\n",
       "</table>\n",
       "</div>"
      ],
      "text/plain": [
       "  subprefeitura  quantidade\n",
       "0    Zona Norte          25"
      ]
     },
     "execution_count": 28,
     "metadata": {},
     "output_type": "execute_result"
    }
   ],
   "source": [
    "df['subprefeitura'].value_counts().rename_axis('subprefeitura').reset_index(name='quantidade').head(1)"
   ]
  },
  {
   "cell_type": "markdown",
   "metadata": {},
   "source": [
    "RESPOSTA: Zona Norte com 25 chamados."
   ]
  },
  {
   "cell_type": "markdown",
   "metadata": {},
   "source": [
    "### 5. Existe algum chamado aberto nesse dia que não foi associado a um bairro ou subprefeitura na tabela de bairros? Se sim, por que isso acontece?"
   ]
  },
  {
   "cell_type": "code",
   "execution_count": 29,
   "metadata": {},
   "outputs": [
    {
     "data": {
      "text/html": [
       "<div>\n",
       "<style scoped>\n",
       "    .dataframe tbody tr th:only-of-type {\n",
       "        vertical-align: middle;\n",
       "    }\n",
       "\n",
       "    .dataframe tbody tr th {\n",
       "        vertical-align: top;\n",
       "    }\n",
       "\n",
       "    .dataframe thead th {\n",
       "        text-align: right;\n",
       "    }\n",
       "</style>\n",
       "<table border=\"1\" class=\"dataframe\">\n",
       "  <thead>\n",
       "    <tr style=\"text-align: right;\">\n",
       "      <th></th>\n",
       "      <th>id_chamado</th>\n",
       "      <th>data_inicio</th>\n",
       "      <th>data_fim</th>\n",
       "      <th>id_bairro</th>\n",
       "      <th>id_territorialidade</th>\n",
       "      <th>id_logradouro</th>\n",
       "      <th>numero_logradouro</th>\n",
       "      <th>id_unidade_organizacional</th>\n",
       "      <th>nome_unidade_organizacional</th>\n",
       "      <th>id_unidade_organizacional_mae</th>\n",
       "      <th>...</th>\n",
       "      <th>prazo_tipo</th>\n",
       "      <th>dentro_prazo</th>\n",
       "      <th>situacao</th>\n",
       "      <th>tipo_situacao</th>\n",
       "      <th>justificativa_status</th>\n",
       "      <th>reclamacoes</th>\n",
       "      <th>data_particao</th>\n",
       "      <th>geometry</th>\n",
       "      <th>nome</th>\n",
       "      <th>subprefeitura</th>\n",
       "    </tr>\n",
       "  </thead>\n",
       "  <tbody>\n",
       "    <tr>\n",
       "      <th>0</th>\n",
       "      <td>18516246</td>\n",
       "      <td>2023-04-01 00:55:38</td>\n",
       "      <td>2023-04-01 00:55:38</td>\n",
       "      <td>None</td>\n",
       "      <td>None</td>\n",
       "      <td>None</td>\n",
       "      <td>NaN</td>\n",
       "      <td>1706</td>\n",
       "      <td>TR/SUBOP/CFT - Coordenadoria de Fiscalização e...</td>\n",
       "      <td>SMTR - Secretaria Municipal de Transportes</td>\n",
       "      <td>...</td>\n",
       "      <td>F</td>\n",
       "      <td>No prazo</td>\n",
       "      <td>Encerrado</td>\n",
       "      <td>Atendido parcialmente</td>\n",
       "      <td>None</td>\n",
       "      <td>0</td>\n",
       "      <td>2023-04-01</td>\n",
       "      <td>None</td>\n",
       "      <td>NaN</td>\n",
       "      <td>NaN</td>\n",
       "    </tr>\n",
       "  </tbody>\n",
       "</table>\n",
       "<p>1 rows × 34 columns</p>\n",
       "</div>"
      ],
      "text/plain": [
       "  id_chamado         data_inicio            data_fim id_bairro  \\\n",
       "0   18516246 2023-04-01 00:55:38 2023-04-01 00:55:38      None   \n",
       "\n",
       "  id_territorialidade id_logradouro  numero_logradouro  \\\n",
       "0                None          None                NaN   \n",
       "\n",
       "  id_unidade_organizacional  \\\n",
       "0                      1706   \n",
       "\n",
       "                         nome_unidade_organizacional  \\\n",
       "0  TR/SUBOP/CFT - Coordenadoria de Fiscalização e...   \n",
       "\n",
       "                id_unidade_organizacional_mae  ... prazo_tipo dentro_prazo  \\\n",
       "0  SMTR - Secretaria Municipal de Transportes  ...          F     No prazo   \n",
       "\n",
       "    situacao          tipo_situacao justificativa_status reclamacoes  \\\n",
       "0  Encerrado  Atendido parcialmente                 None           0   \n",
       "\n",
       "  data_particao  geometry  nome subprefeitura  \n",
       "0    2023-04-01      None   NaN           NaN  \n",
       "\n",
       "[1 rows x 34 columns]"
      ]
     },
     "execution_count": 29,
     "metadata": {},
     "output_type": "execute_result"
    }
   ],
   "source": [
    "df[(df['id_bairro'].isnull()) | (df['subprefeitura'].isnull())]"
   ]
  },
  {
   "cell_type": "markdown",
   "metadata": {},
   "source": [
    "RESPOSTA: Sim, há um chamado que não foi associado a um bairro e nem a uma subprefeitura neste dia. id_chamado = 18516246, realizado pela SMTR - Secretaria Municipal de Transportes este chamado é da categoria serviço, tipo = Ônibus e subtipo = Verificação de ar condicionado inoperante no ônibus.\n",
    "Isto ocorre por que a natureza do chamado (chamados internos) podem envolver atividades ou processos que não estão diretamente relacionados a uma localização geográfica específica. Por exemplo, um chamado para manutenção de equipamentos internos, treinamento de funcionários ou gerenciamento de projetos pode ser tratado internamente pelo departamento responsável e não exigir uma associação a uma localidade."
   ]
  },
  {
   "cell_type": "markdown",
   "metadata": {},
   "source": [
    "### 6. Quantos chamados com o subtipo \"Perturbação do sossego\" foram abertos desde 01/01/2022 até 31/12/2023 (incluindo extremidades)?"
   ]
  },
  {
   "cell_type": "code",
   "execution_count": 30,
   "metadata": {},
   "outputs": [
    {
     "name": "stderr",
     "output_type": "stream",
     "text": [
      "Downloading: 100%|██████████| 42408/42408 [00:02<00:00, 16844.70rows/s]\n"
     ]
    },
    {
     "data": {
      "text/html": [
       "<div>\n",
       "<style scoped>\n",
       "    .dataframe tbody tr th:only-of-type {\n",
       "        vertical-align: middle;\n",
       "    }\n",
       "\n",
       "    .dataframe tbody tr th {\n",
       "        vertical-align: top;\n",
       "    }\n",
       "\n",
       "    .dataframe thead th {\n",
       "        text-align: right;\n",
       "    }\n",
       "</style>\n",
       "<table border=\"1\" class=\"dataframe\">\n",
       "  <thead>\n",
       "    <tr style=\"text-align: right;\">\n",
       "      <th></th>\n",
       "      <th>id_subtipo</th>\n",
       "      <th>data_inicio</th>\n",
       "    </tr>\n",
       "  </thead>\n",
       "  <tbody>\n",
       "    <tr>\n",
       "      <th>0</th>\n",
       "      <td>5071</td>\n",
       "      <td>2022-11-18 20:40:41</td>\n",
       "    </tr>\n",
       "    <tr>\n",
       "      <th>1</th>\n",
       "      <td>5071</td>\n",
       "      <td>2022-11-10 11:16:03</td>\n",
       "    </tr>\n",
       "    <tr>\n",
       "      <th>2</th>\n",
       "      <td>5071</td>\n",
       "      <td>2022-11-15 21:23:07</td>\n",
       "    </tr>\n",
       "    <tr>\n",
       "      <th>3</th>\n",
       "      <td>5071</td>\n",
       "      <td>2022-11-20 04:25:33</td>\n",
       "    </tr>\n",
       "    <tr>\n",
       "      <th>4</th>\n",
       "      <td>5071</td>\n",
       "      <td>2022-11-12 22:40:58</td>\n",
       "    </tr>\n",
       "  </tbody>\n",
       "</table>\n",
       "</div>"
      ],
      "text/plain": [
       "  id_subtipo         data_inicio\n",
       "0       5071 2022-11-18 20:40:41\n",
       "1       5071 2022-11-10 11:16:03\n",
       "2       5071 2022-11-15 21:23:07\n",
       "3       5071 2022-11-20 04:25:33\n",
       "4       5071 2022-11-12 22:40:58"
      ]
     },
     "execution_count": 30,
     "metadata": {},
     "output_type": "execute_result"
    }
   ],
   "source": [
    "# Lendo tabela de chamados filtrando por subtipo e período\n",
    "query = \"\"\"\n",
    "SELECT tb_a.id_subtipo, tb_a.data_inicio\n",
    "FROM `datario.administracao_servicos_publicos.chamado_1746` tb_a\n",
    "WHERE \n",
    "data_particao BETWEEN \"2022-01-01\" AND \"2023-12-31\"\n",
    "AND \n",
    "DATE(data_inicio) BETWEEN \"2022-01-01\" AND \"2023-12-31\"\n",
    "AND tb_a.id_subtipo = \"5071\";\n",
    "\"\"\"\n",
    "# Salvando consulta em um dataframe\n",
    "df_chamados_2022_2023 = bd.read_sql(query, billing_project_id=\"desafio-emd-cdj\")\n",
    "\n",
    "# Visualizando df\n",
    "df_chamados_2022_2023.head(5)"
   ]
  },
  {
   "cell_type": "code",
   "execution_count": 31,
   "metadata": {},
   "outputs": [
    {
     "data": {
      "text/plain": [
       "42408"
      ]
     },
     "execution_count": 31,
     "metadata": {},
     "output_type": "execute_result"
    }
   ],
   "source": [
    "# Contagem do subtipo \"Pertubação do sossego\"\n",
    "len(df_chamados_2022_2023)"
   ]
  },
  {
   "cell_type": "markdown",
   "metadata": {},
   "source": [
    "RESPOSTA: 42408 chamados."
   ]
  },
  {
   "cell_type": "markdown",
   "metadata": {},
   "source": [
    "### 7. Selecione os chamados com esse subtipo que foram abertos durante os eventos contidos na tabela de eventos (Reveillon, Carnaval e Rock in Rio)."
   ]
  },
  {
   "cell_type": "code",
   "execution_count": 32,
   "metadata": {},
   "outputs": [
    {
     "name": "stderr",
     "output_type": "stream",
     "text": [
      "Downloading: 100%|██████████| 4/4 [00:00<00:00, 10.13rows/s]\n"
     ]
    }
   ],
   "source": [
    "# Lendo tabela de eventos\n",
    "query = \"\"\"\n",
    "SELECT *\n",
    "FROM `datario.turismo_fluxo_visitantes.rede_hoteleira_ocupacao_eventos`;\n",
    "\"\"\"\n",
    "# Salvando consulta em um dataframe\n",
    "df_eventos = bd.read_sql(query, billing_project_id=\"desafio-emd-cdj\")"
   ]
  },
  {
   "cell_type": "code",
   "execution_count": 33,
   "metadata": {},
   "outputs": [
    {
     "data": {
      "text/html": [
       "<div>\n",
       "<style scoped>\n",
       "    .dataframe tbody tr th:only-of-type {\n",
       "        vertical-align: middle;\n",
       "    }\n",
       "\n",
       "    .dataframe tbody tr th {\n",
       "        vertical-align: top;\n",
       "    }\n",
       "\n",
       "    .dataframe thead th {\n",
       "        text-align: right;\n",
       "    }\n",
       "</style>\n",
       "<table border=\"1\" class=\"dataframe\">\n",
       "  <thead>\n",
       "    <tr style=\"text-align: right;\">\n",
       "      <th></th>\n",
       "      <th>ano</th>\n",
       "      <th>data_inicial</th>\n",
       "      <th>data_final</th>\n",
       "      <th>evento</th>\n",
       "      <th>taxa_ocupacao</th>\n",
       "    </tr>\n",
       "  </thead>\n",
       "  <tbody>\n",
       "    <tr>\n",
       "      <th>0</th>\n",
       "      <td>18/02 a 21/02 de 2023</td>\n",
       "      <td>2023-02-18</td>\n",
       "      <td>2023-02-21</td>\n",
       "      <td>Carnaval</td>\n",
       "      <td>0.9554</td>\n",
       "    </tr>\n",
       "    <tr>\n",
       "      <th>1</th>\n",
       "      <td>30-31/12 e 01/01 (2022-2023)</td>\n",
       "      <td>2022-12-30</td>\n",
       "      <td>2023-01-01</td>\n",
       "      <td>Reveillon</td>\n",
       "      <td>0.9251</td>\n",
       "    </tr>\n",
       "    <tr>\n",
       "      <th>2</th>\n",
       "      <td>02/09 a 04/09 de 2022</td>\n",
       "      <td>2022-09-02</td>\n",
       "      <td>2022-09-04</td>\n",
       "      <td>Rock in Rio</td>\n",
       "      <td>0.8184</td>\n",
       "    </tr>\n",
       "    <tr>\n",
       "      <th>3</th>\n",
       "      <td>08/09 a 11/09 de 2022</td>\n",
       "      <td>2022-09-08</td>\n",
       "      <td>2022-09-11</td>\n",
       "      <td>Rock in Rio</td>\n",
       "      <td>0.9451</td>\n",
       "    </tr>\n",
       "  </tbody>\n",
       "</table>\n",
       "</div>"
      ],
      "text/plain": [
       "                            ano data_inicial data_final       evento  \\\n",
       "0         18/02 a 21/02 de 2023   2023-02-18 2023-02-21     Carnaval   \n",
       "1  30-31/12 e 01/01 (2022-2023)   2022-12-30 2023-01-01    Reveillon   \n",
       "2         02/09 a 04/09 de 2022   2022-09-02 2022-09-04  Rock in Rio   \n",
       "3         08/09 a 11/09 de 2022   2022-09-08 2022-09-11  Rock in Rio   \n",
       "\n",
       "   taxa_ocupacao  \n",
       "0         0.9554  \n",
       "1         0.9251  \n",
       "2         0.8184  \n",
       "3         0.9451  "
      ]
     },
     "execution_count": 33,
     "metadata": {},
     "output_type": "execute_result"
    }
   ],
   "source": [
    "# Visuliazando df\n",
    "df_eventos"
   ]
  },
  {
   "cell_type": "code",
   "execution_count": 34,
   "metadata": {},
   "outputs": [],
   "source": [
    "# Copiando df_chamados_2022_2023\n",
    "df_ch_2022_2023 = df_chamados_2022_2023.copy()"
   ]
  },
  {
   "cell_type": "code",
   "execution_count": 35,
   "metadata": {},
   "outputs": [
    {
     "data": {
      "text/html": [
       "<div>\n",
       "<style scoped>\n",
       "    .dataframe tbody tr th:only-of-type {\n",
       "        vertical-align: middle;\n",
       "    }\n",
       "\n",
       "    .dataframe tbody tr th {\n",
       "        vertical-align: top;\n",
       "    }\n",
       "\n",
       "    .dataframe thead th {\n",
       "        text-align: right;\n",
       "    }\n",
       "</style>\n",
       "<table border=\"1\" class=\"dataframe\">\n",
       "  <thead>\n",
       "    <tr style=\"text-align: right;\">\n",
       "      <th></th>\n",
       "      <th>id_subtipo</th>\n",
       "      <th>data_inicio</th>\n",
       "    </tr>\n",
       "  </thead>\n",
       "  <tbody>\n",
       "    <tr>\n",
       "      <th>0</th>\n",
       "      <td>5071</td>\n",
       "      <td>2022-11-18</td>\n",
       "    </tr>\n",
       "    <tr>\n",
       "      <th>1</th>\n",
       "      <td>5071</td>\n",
       "      <td>2022-11-10</td>\n",
       "    </tr>\n",
       "    <tr>\n",
       "      <th>2</th>\n",
       "      <td>5071</td>\n",
       "      <td>2022-11-15</td>\n",
       "    </tr>\n",
       "    <tr>\n",
       "      <th>3</th>\n",
       "      <td>5071</td>\n",
       "      <td>2022-11-20</td>\n",
       "    </tr>\n",
       "    <tr>\n",
       "      <th>4</th>\n",
       "      <td>5071</td>\n",
       "      <td>2022-11-12</td>\n",
       "    </tr>\n",
       "  </tbody>\n",
       "</table>\n",
       "</div>"
      ],
      "text/plain": [
       "  id_subtipo data_inicio\n",
       "0       5071  2022-11-18\n",
       "1       5071  2022-11-10\n",
       "2       5071  2022-11-15\n",
       "3       5071  2022-11-20\n",
       "4       5071  2022-11-12"
      ]
     },
     "execution_count": 35,
     "metadata": {},
     "output_type": "execute_result"
    }
   ],
   "source": [
    "# Aqui tive dificuldades para converter as datas, fiz uma cópia dos dfs para preservar os originais.\n",
    "# Primeiro extraimos apenas a data de df_ch_2022_2023['data_inicio'], ao converter a variável\n",
    "# ficará do tipo object, depois é só converter novamente para to_datetime.\n",
    "# len(df_ch_2022_2023)\n",
    "df_ch_2022_2023['data_inicio'] = pd.to_datetime(df_ch_2022_2023['data_inicio']).dt.date\n",
    "df_ch_2022_2023['data_inicio'] = pd.to_datetime(df_ch_2022_2023['data_inicio'])\n",
    "# df_ch_2022_2023.dtypes\n",
    "df_ch_2022_2023.head(5)"
   ]
  },
  {
   "cell_type": "code",
   "execution_count": 77,
   "metadata": {},
   "outputs": [
    {
     "data": {
      "text/plain": [
       "1212"
      ]
     },
     "execution_count": 77,
     "metadata": {},
     "output_type": "execute_result"
    }
   ],
   "source": [
    "# Expansão do df_eventos para incluir todas as datas entre 'data_inicial' e 'data_final'\n",
    "df_eventos2 = df_eventos.copy()\n",
    "df_eventos2 = df_eventos2.assign(data_inicial=df_eventos2.apply(lambda r:\n",
    "                                                             pd.date_range(r['data_inicial'],\n",
    "                                                                           r['data_final']).tolist(),axis=1)).explode('data_inicial')\n",
    "\n",
    "# Fazendo o merge interno de df_chamados_2022_2023 e df_eventos\n",
    "df = pd.merge(df_ch_2022_2023, df_eventos2, left_on='data_inicio',\n",
    "               right_on='data_inicial', how='inner')\n",
    "len(df)"
   ]
  },
  {
   "cell_type": "markdown",
   "metadata": {},
   "source": [
    "RESPOSTA: 1212 chamados do subtipo \"Perturbação do sossego\" foram abertos durante o Reveillon, Carnaval e Rock in Rio."
   ]
  },
  {
   "cell_type": "markdown",
   "metadata": {},
   "source": [
    "### 8. Quantos chamados desse subtipo foram abertos em cada evento?"
   ]
  },
  {
   "cell_type": "code",
   "execution_count": 69,
   "metadata": {},
   "outputs": [
    {
     "data": {
      "text/html": [
       "<div>\n",
       "<style scoped>\n",
       "    .dataframe tbody tr th:only-of-type {\n",
       "        vertical-align: middle;\n",
       "    }\n",
       "\n",
       "    .dataframe tbody tr th {\n",
       "        vertical-align: top;\n",
       "    }\n",
       "\n",
       "    .dataframe thead th {\n",
       "        text-align: right;\n",
       "    }\n",
       "</style>\n",
       "<table border=\"1\" class=\"dataframe\">\n",
       "  <thead>\n",
       "    <tr style=\"text-align: right;\">\n",
       "      <th></th>\n",
       "      <th>Eventos</th>\n",
       "      <th>quantidade</th>\n",
       "    </tr>\n",
       "  </thead>\n",
       "  <tbody>\n",
       "    <tr>\n",
       "      <th>0</th>\n",
       "      <td>Rock in Rio</td>\n",
       "      <td>834</td>\n",
       "    </tr>\n",
       "    <tr>\n",
       "      <th>1</th>\n",
       "      <td>Carnaval</td>\n",
       "      <td>241</td>\n",
       "    </tr>\n",
       "    <tr>\n",
       "      <th>2</th>\n",
       "      <td>Reveillon</td>\n",
       "      <td>137</td>\n",
       "    </tr>\n",
       "  </tbody>\n",
       "</table>\n",
       "</div>"
      ],
      "text/plain": [
       "       Eventos  quantidade\n",
       "0  Rock in Rio         834\n",
       "1     Carnaval         241\n",
       "2    Reveillon         137"
      ]
     },
     "execution_count": 69,
     "metadata": {},
     "output_type": "execute_result"
    }
   ],
   "source": [
    "df['evento'].value_counts().rename_axis('Eventos').reset_index(name='quantidade')"
   ]
  },
  {
   "cell_type": "markdown",
   "metadata": {},
   "source": [
    "RESPOSTA: Rock in Rio teve 834 chamados, Carnaval teve 241 chamados e Reveillon teve 137 chamados."
   ]
  },
  {
   "cell_type": "markdown",
   "metadata": {},
   "source": [
    "### 9. Qual evento teve a maior média diária de chamados abertos desse subtipo?"
   ]
  },
  {
   "cell_type": "code",
   "execution_count": 70,
   "metadata": {},
   "outputs": [
    {
     "data": {
      "text/html": [
       "<div>\n",
       "<style scoped>\n",
       "    .dataframe tbody tr th:only-of-type {\n",
       "        vertical-align: middle;\n",
       "    }\n",
       "\n",
       "    .dataframe tbody tr th {\n",
       "        vertical-align: top;\n",
       "    }\n",
       "\n",
       "    .dataframe thead th {\n",
       "        text-align: right;\n",
       "    }\n",
       "</style>\n",
       "<table border=\"1\" class=\"dataframe\">\n",
       "  <thead>\n",
       "    <tr style=\"text-align: right;\">\n",
       "      <th></th>\n",
       "      <th>id_subtipo</th>\n",
       "      <th>data_inicio</th>\n",
       "      <th>ano</th>\n",
       "      <th>data_inicial</th>\n",
       "      <th>data_final</th>\n",
       "      <th>evento</th>\n",
       "      <th>taxa_ocupacao</th>\n",
       "    </tr>\n",
       "  </thead>\n",
       "  <tbody>\n",
       "    <tr>\n",
       "      <th>0</th>\n",
       "      <td>5071</td>\n",
       "      <td>2022-12-30</td>\n",
       "      <td>30-31/12 e 01/01 (2022-2023)</td>\n",
       "      <td>2022-12-30</td>\n",
       "      <td>2023-01-01</td>\n",
       "      <td>Reveillon</td>\n",
       "      <td>0.9251</td>\n",
       "    </tr>\n",
       "    <tr>\n",
       "      <th>1</th>\n",
       "      <td>5071</td>\n",
       "      <td>2022-12-30</td>\n",
       "      <td>30-31/12 e 01/01 (2022-2023)</td>\n",
       "      <td>2022-12-30</td>\n",
       "      <td>2023-01-01</td>\n",
       "      <td>Reveillon</td>\n",
       "      <td>0.9251</td>\n",
       "    </tr>\n",
       "    <tr>\n",
       "      <th>2</th>\n",
       "      <td>5071</td>\n",
       "      <td>2022-12-30</td>\n",
       "      <td>30-31/12 e 01/01 (2022-2023)</td>\n",
       "      <td>2022-12-30</td>\n",
       "      <td>2023-01-01</td>\n",
       "      <td>Reveillon</td>\n",
       "      <td>0.9251</td>\n",
       "    </tr>\n",
       "  </tbody>\n",
       "</table>\n",
       "</div>"
      ],
      "text/plain": [
       "  id_subtipo data_inicio                           ano data_inicial  \\\n",
       "0       5071  2022-12-30  30-31/12 e 01/01 (2022-2023)   2022-12-30   \n",
       "1       5071  2022-12-30  30-31/12 e 01/01 (2022-2023)   2022-12-30   \n",
       "2       5071  2022-12-30  30-31/12 e 01/01 (2022-2023)   2022-12-30   \n",
       "\n",
       "  data_final     evento  taxa_ocupacao  \n",
       "0 2023-01-01  Reveillon         0.9251  \n",
       "1 2023-01-01  Reveillon         0.9251  \n",
       "2 2023-01-01  Reveillon         0.9251  "
      ]
     },
     "execution_count": 70,
     "metadata": {},
     "output_type": "execute_result"
    }
   ],
   "source": [
    "df.head(3)"
   ]
  },
  {
   "cell_type": "code",
   "execution_count": 39,
   "metadata": {},
   "outputs": [
    {
     "data": {
      "text/plain": [
       "'Rock in Rio'"
      ]
     },
     "execution_count": 39,
     "metadata": {},
     "output_type": "execute_result"
    }
   ],
   "source": [
    "# Calculando o número de dias para cada evento\n",
    "df['numero_de_dias'] = (df['data_final'] - df['data_inicial']).dt.days + 1\n",
    "\n",
    "# Calculando o número de chamados para cada evento\n",
    "df['numero_de_chamados'] = df.groupby('evento')['evento'].transform('count')\n",
    "\n",
    "# Calculando a média diária de chamados para cada evento\n",
    "df['media_diaria'] = df['numero_de_chamados'] / df['numero_de_dias']\n",
    "\n",
    "# Encontrando o evento com a maior média diária de chamados\n",
    "evento_maior_media = df.loc[df['media_diaria'].idxmax()]['evento']\n",
    "evento_maior_media"
   ]
  },
  {
   "cell_type": "code",
   "execution_count": 80,
   "metadata": {},
   "outputs": [
    {
     "data": {
      "text/plain": [
       "evento\n",
       "Carnaval        60.250000\n",
       "Reveillon       45.666667\n",
       "Rock in Rio    119.142857\n",
       "dtype: float64"
      ]
     },
     "execution_count": 80,
     "metadata": {},
     "output_type": "execute_result"
    }
   ],
   "source": [
    "df.groupby(['evento', pd.Grouper(key='data_inicio', freq='D')]).size().groupby('evento').mean()"
   ]
  },
  {
   "cell_type": "code",
   "execution_count": 83,
   "metadata": {},
   "outputs": [
    {
     "data": {
      "text/plain": [
       "evento\n",
       "Carnaval        60.250000\n",
       "Reveillon       45.666667\n",
       "Rock in Rio    119.142857\n",
       "dtype: float64"
      ]
     },
     "execution_count": 83,
     "metadata": {},
     "output_type": "execute_result"
    }
   ],
   "source": [
    "# Agrupando por 'evento' e resample por dia ('D'), então calculando o tamanho de cada grupo\n",
    "sizes = df.groupby('evento').resample('D', on='data_inicio').size()\n",
    "\n",
    "# Filtrando apenas os dias em que houve chamados\n",
    "sizes = sizes[sizes > 0]\n",
    "\n",
    "# Calculando a média para cada grupo 'evento'\n",
    "sizes.groupby('evento').mean()"
   ]
  },
  {
   "cell_type": "code",
   "execution_count": 86,
   "metadata": {},
   "outputs": [
    {
     "data": {
      "text/plain": [
       "evento\n",
       "Carnaval        60.250000\n",
       "Reveillon       45.666667\n",
       "Rock in Rio    119.142857\n",
       "dtype: float64"
      ]
     },
     "execution_count": 86,
     "metadata": {},
     "output_type": "execute_result"
    }
   ],
   "source": [
    "df.groupby('evento').resample('D', on='data_inicio').size().loc[lambda x: x > 0].groupby('evento').mean()"
   ]
  },
  {
   "cell_type": "code",
   "execution_count": 87,
   "metadata": {},
   "outputs": [
    {
     "ename": "AttributeError",
     "evalue": "'DatetimeIndexResamplerGroupby' object has no attribute 'any'",
     "output_type": "error",
     "traceback": [
      "\u001b[0;31m---------------------------------------------------------------------------\u001b[0m",
      "\u001b[0;31mAttributeError\u001b[0m                            Traceback (most recent call last)",
      "Cell \u001b[0;32mIn[87], line 1\u001b[0m\n\u001b[0;32m----> 1\u001b[0m \u001b[43mdf\u001b[49m\u001b[38;5;241;43m.\u001b[39;49m\u001b[43mgroupby\u001b[49m\u001b[43m(\u001b[49m\u001b[38;5;124;43m'\u001b[39;49m\u001b[38;5;124;43mevento\u001b[39;49m\u001b[38;5;124;43m'\u001b[39;49m\u001b[43m)\u001b[49m\u001b[38;5;241;43m.\u001b[39;49m\u001b[43mresample\u001b[49m\u001b[43m(\u001b[49m\u001b[38;5;124;43m'\u001b[39;49m\u001b[38;5;124;43mD\u001b[39;49m\u001b[38;5;124;43m'\u001b[39;49m\u001b[43m,\u001b[49m\u001b[43m \u001b[49m\u001b[43mon\u001b[49m\u001b[38;5;241;43m=\u001b[39;49m\u001b[38;5;124;43m'\u001b[39;49m\u001b[38;5;124;43mdata_inicio\u001b[39;49m\u001b[38;5;124;43m'\u001b[39;49m\u001b[43m)\u001b[49m\u001b[38;5;241;43m.\u001b[39;49m\u001b[43many\u001b[49m()\u001b[38;5;241m.\u001b[39mmean()\n",
      "File \u001b[0;32m~/emd-desafio-junior-data-scientist/.venv/lib/python3.11/site-packages/pandas/core/resample.py:124\u001b[0m, in \u001b[0;36mResampler.__getattr__\u001b[0;34m(self, attr)\u001b[0m\n\u001b[1;32m    121\u001b[0m \u001b[38;5;28;01mif\u001b[39;00m attr \u001b[38;5;129;01min\u001b[39;00m \u001b[38;5;28mself\u001b[39m\u001b[38;5;241m.\u001b[39mobj:\n\u001b[1;32m    122\u001b[0m     \u001b[38;5;28;01mreturn\u001b[39;00m \u001b[38;5;28mself\u001b[39m[attr]\n\u001b[0;32m--> 124\u001b[0m \u001b[38;5;28;01mreturn\u001b[39;00m \u001b[38;5;28;43mobject\u001b[39;49m\u001b[38;5;241;43m.\u001b[39;49m\u001b[38;5;21;43m__getattribute__\u001b[39;49m\u001b[43m(\u001b[49m\u001b[38;5;28;43mself\u001b[39;49m\u001b[43m,\u001b[49m\u001b[43m \u001b[49m\u001b[43mattr\u001b[49m\u001b[43m)\u001b[49m\n",
      "\u001b[0;31mAttributeError\u001b[0m: 'DatetimeIndexResamplerGroupby' object has no attribute 'any'"
     ]
    }
   ],
   "source": [
    "# Resample the data by day and create a boolean mask indicating if there were any events on each day\n",
    "df.resample('D', on='data_inicio').apply(lambda x: x.notna().any()).groupby('evento').mean()"
   ]
  },
  {
   "cell_type": "code",
   "execution_count": 40,
   "metadata": {},
   "outputs": [
    {
     "data": {
      "text/html": [
       "<div>\n",
       "<style scoped>\n",
       "    .dataframe tbody tr th:only-of-type {\n",
       "        vertical-align: middle;\n",
       "    }\n",
       "\n",
       "    .dataframe tbody tr th {\n",
       "        vertical-align: top;\n",
       "    }\n",
       "\n",
       "    .dataframe thead th {\n",
       "        text-align: right;\n",
       "    }\n",
       "</style>\n",
       "<table border=\"1\" class=\"dataframe\">\n",
       "  <thead>\n",
       "    <tr style=\"text-align: right;\">\n",
       "      <th></th>\n",
       "      <th>id_subtipo</th>\n",
       "      <th>data_inicio</th>\n",
       "      <th>ano</th>\n",
       "      <th>data_inicial</th>\n",
       "      <th>data_final</th>\n",
       "      <th>evento</th>\n",
       "      <th>taxa_ocupacao</th>\n",
       "      <th>numero_de_dias</th>\n",
       "      <th>numero_de_chamados</th>\n",
       "      <th>media_diaria</th>\n",
       "    </tr>\n",
       "  </thead>\n",
       "  <tbody>\n",
       "    <tr>\n",
       "      <th>0</th>\n",
       "      <td>5071</td>\n",
       "      <td>2022-12-30</td>\n",
       "      <td>30-31/12 e 01/01 (2022-2023)</td>\n",
       "      <td>2022-12-30</td>\n",
       "      <td>2023-01-01</td>\n",
       "      <td>Reveillon</td>\n",
       "      <td>0.9251</td>\n",
       "      <td>3</td>\n",
       "      <td>137</td>\n",
       "      <td>45.666667</td>\n",
       "    </tr>\n",
       "    <tr>\n",
       "      <th>1</th>\n",
       "      <td>5071</td>\n",
       "      <td>2022-12-30</td>\n",
       "      <td>30-31/12 e 01/01 (2022-2023)</td>\n",
       "      <td>2022-12-30</td>\n",
       "      <td>2023-01-01</td>\n",
       "      <td>Reveillon</td>\n",
       "      <td>0.9251</td>\n",
       "      <td>3</td>\n",
       "      <td>137</td>\n",
       "      <td>45.666667</td>\n",
       "    </tr>\n",
       "    <tr>\n",
       "      <th>2</th>\n",
       "      <td>5071</td>\n",
       "      <td>2022-12-30</td>\n",
       "      <td>30-31/12 e 01/01 (2022-2023)</td>\n",
       "      <td>2022-12-30</td>\n",
       "      <td>2023-01-01</td>\n",
       "      <td>Reveillon</td>\n",
       "      <td>0.9251</td>\n",
       "      <td>3</td>\n",
       "      <td>137</td>\n",
       "      <td>45.666667</td>\n",
       "    </tr>\n",
       "    <tr>\n",
       "      <th>3</th>\n",
       "      <td>5071</td>\n",
       "      <td>2022-12-30</td>\n",
       "      <td>30-31/12 e 01/01 (2022-2023)</td>\n",
       "      <td>2022-12-30</td>\n",
       "      <td>2023-01-01</td>\n",
       "      <td>Reveillon</td>\n",
       "      <td>0.9251</td>\n",
       "      <td>3</td>\n",
       "      <td>137</td>\n",
       "      <td>45.666667</td>\n",
       "    </tr>\n",
       "    <tr>\n",
       "      <th>4</th>\n",
       "      <td>5071</td>\n",
       "      <td>2022-12-30</td>\n",
       "      <td>30-31/12 e 01/01 (2022-2023)</td>\n",
       "      <td>2022-12-30</td>\n",
       "      <td>2023-01-01</td>\n",
       "      <td>Reveillon</td>\n",
       "      <td>0.9251</td>\n",
       "      <td>3</td>\n",
       "      <td>137</td>\n",
       "      <td>45.666667</td>\n",
       "    </tr>\n",
       "  </tbody>\n",
       "</table>\n",
       "</div>"
      ],
      "text/plain": [
       "  id_subtipo data_inicio                           ano data_inicial  \\\n",
       "0       5071  2022-12-30  30-31/12 e 01/01 (2022-2023)   2022-12-30   \n",
       "1       5071  2022-12-30  30-31/12 e 01/01 (2022-2023)   2022-12-30   \n",
       "2       5071  2022-12-30  30-31/12 e 01/01 (2022-2023)   2022-12-30   \n",
       "3       5071  2022-12-30  30-31/12 e 01/01 (2022-2023)   2022-12-30   \n",
       "4       5071  2022-12-30  30-31/12 e 01/01 (2022-2023)   2022-12-30   \n",
       "\n",
       "  data_final     evento  taxa_ocupacao  numero_de_dias  numero_de_chamados  \\\n",
       "0 2023-01-01  Reveillon         0.9251               3                 137   \n",
       "1 2023-01-01  Reveillon         0.9251               3                 137   \n",
       "2 2023-01-01  Reveillon         0.9251               3                 137   \n",
       "3 2023-01-01  Reveillon         0.9251               3                 137   \n",
       "4 2023-01-01  Reveillon         0.9251               3                 137   \n",
       "\n",
       "   media_diaria  \n",
       "0     45.666667  \n",
       "1     45.666667  \n",
       "2     45.666667  \n",
       "3     45.666667  \n",
       "4     45.666667  "
      ]
     },
     "execution_count": 40,
     "metadata": {},
     "output_type": "execute_result"
    }
   ],
   "source": [
    "df.head(5)"
   ]
  },
  {
   "cell_type": "markdown",
   "metadata": {},
   "source": [
    "### 10. Compare as médias diárias de chamados abertos desse subtipo durante os eventos específicos (Reveillon, Carnaval e Rock in Rio) e a média diária de chamados abertos desse subtipo considerando todo o período de 01/01/2022 até 31/12/2023."
   ]
  }
 ],
 "metadata": {
  "kernelspec": {
   "display_name": ".venv",
   "language": "python",
   "name": "python3"
  },
  "language_info": {
   "codemirror_mode": {
    "name": "ipython",
    "version": 3
   },
   "file_extension": ".py",
   "mimetype": "text/x-python",
   "name": "python",
   "nbconvert_exporter": "python",
   "pygments_lexer": "ipython3",
   "version": "3.11.7"
  }
 },
 "nbformat": 4,
 "nbformat_minor": 2
}
